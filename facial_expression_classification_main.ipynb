{
  "cells": [
    {
      "cell_type": "markdown",
      "metadata": {
        "id": "view-in-github",
        "colab_type": "text"
      },
      "source": [
        "<a href=\"https://colab.research.google.com/github/tejaswaroop2310/Face-Emotion-Recognition/blob/main/facial_expression_classification_main.ipynb\" target=\"_parent\"><img src=\"https://colab.research.google.com/assets/colab-badge.svg\" alt=\"Open In Colab\"/></a>"
      ]
    },
    {
      "cell_type": "markdown",
      "id": "17e6eafa",
      "metadata": {
        "papermill": {
          "duration": 0.019494,
          "end_time": "2021-11-13T20:10:18.641406",
          "exception": false,
          "start_time": "2021-11-13T20:10:18.621912",
          "status": "completed"
        },
        "tags": [],
        "id": "17e6eafa"
      },
      "source": [
        "# Import Libraries"
      ]
    },
    {
      "cell_type": "code",
      "execution_count": 1,
      "id": "939f8f8f",
      "metadata": {
        "_cell_guid": "b1076dfc-b9ad-4769-8c92-a6c4dae69d19",
        "_uuid": "8f2839f25d086af736a60e9eeb907d3b93b6e0e5",
        "execution": {
          "iopub.execute_input": "2021-11-13T20:10:18.687800Z",
          "iopub.status.busy": "2021-11-13T20:10:18.686946Z",
          "iopub.status.idle": "2021-11-13T20:10:24.428710Z",
          "shell.execute_reply": "2021-11-13T20:10:24.429435Z",
          "shell.execute_reply.started": "2021-11-13T19:50:25.919438Z"
        },
        "papermill": {
          "duration": 5.770802,
          "end_time": "2021-11-13T20:10:24.429876",
          "exception": false,
          "start_time": "2021-11-13T20:10:18.659074",
          "status": "completed"
        },
        "tags": [],
        "id": "939f8f8f"
      },
      "outputs": [],
      "source": [
        "\n",
        "\n",
        "import numpy as np \n",
        "import pandas as pd \n",
        "\n",
        "from tensorflow.keras.utils import to_categorical\n",
        "from keras.callbacks import EarlyStopping\n",
        "from keras.models import Sequential\n",
        "from keras.layers import Dense, Dropout, Activation, Flatten\n",
        "from keras.layers import Conv2D, MaxPooling2D, BatchNormalization\n",
        "\n",
        "from keras.losses import categorical_crossentropy\n",
        "from sklearn.metrics import accuracy_score\n",
        "from tensorflow.keras.optimizers import Adam\n",
        "from keras.regularizers import l2\n",
        "from keras.preprocessing.image import ImageDataGenerator\n",
        "from sklearn.metrics import classification_report, confusion_matrix\n",
        "import matplotlib.pyplot as plt\n",
        "import seaborn as sns\n",
        "\n"
      ]
    },
    {
      "cell_type": "markdown",
      "id": "d1795678",
      "metadata": {
        "papermill": {
          "duration": 0.015488,
          "end_time": "2021-11-13T20:10:24.462196",
          "exception": false,
          "start_time": "2021-11-13T20:10:24.446708",
          "status": "completed"
        },
        "tags": [],
        "id": "d1795678"
      },
      "source": [
        "# dataset "
      ]
    },
    {
      "cell_type": "code",
      "source": [
        "#mount the drive\n",
        "from google.colab import drive\n",
        "drive.mount('/content/drive')"
      ],
      "metadata": {
        "id": "PSMzkGL7tftA",
        "colab": {
          "base_uri": "https://localhost:8080/"
        },
        "outputId": "ee2f22e6-6a63-459b-bee0-0be78617641b"
      },
      "id": "PSMzkGL7tftA",
      "execution_count": 2,
      "outputs": [
        {
          "output_type": "stream",
          "name": "stdout",
          "text": [
            "Mounted at /content/drive\n"
          ]
        }
      ]
    },
    {
      "cell_type": "code",
      "execution_count": 4,
      "id": "479e067e",
      "metadata": {
        "execution": {
          "iopub.execute_input": "2021-11-13T20:10:24.498271Z",
          "iopub.status.busy": "2021-11-13T20:10:24.497657Z",
          "iopub.status.idle": "2021-11-13T20:10:29.405800Z",
          "shell.execute_reply": "2021-11-13T20:10:29.406214Z",
          "shell.execute_reply.started": "2021-11-13T19:50:32.291194Z"
        },
        "papermill": {
          "duration": 4.928313,
          "end_time": "2021-11-13T20:10:29.406374",
          "exception": false,
          "start_time": "2021-11-13T20:10:24.478061",
          "status": "completed"
        },
        "tags": [],
        "id": "479e067e",
        "colab": {
          "base_uri": "https://localhost:8080/"
        },
        "outputId": "769ee226-04a6-4131-8d77-090b056f61dd"
      },
      "outputs": [
        {
          "output_type": "execute_result",
          "data": {
            "text/plain": [
              "(35887, 3)"
            ]
          },
          "metadata": {},
          "execution_count": 4
        }
      ],
      "source": [
        "#Read the data\n",
        "df = pd.read_csv('/content/drive/MyDrive/Capstone Project  5/fer2013.csv')\n",
        "#check df shape\n",
        "df.shape"
      ]
    },
    {
      "cell_type": "code",
      "execution_count": 5,
      "id": "5a68a814",
      "metadata": {
        "execution": {
          "iopub.execute_input": "2021-11-13T20:10:29.445492Z",
          "iopub.status.busy": "2021-11-13T20:10:29.444688Z",
          "iopub.status.idle": "2021-11-13T20:10:29.455312Z",
          "shell.execute_reply": "2021-11-13T20:10:29.455750Z",
          "shell.execute_reply.started": "2021-11-13T19:50:37.461333Z"
        },
        "papermill": {
          "duration": 0.033294,
          "end_time": "2021-11-13T20:10:29.455885",
          "exception": false,
          "start_time": "2021-11-13T20:10:29.422591",
          "status": "completed"
        },
        "tags": [],
        "id": "5a68a814",
        "colab": {
          "base_uri": "https://localhost:8080/",
          "height": 206
        },
        "outputId": "be71515c-03c8-406e-c3ab-19a34a0dfaa0"
      },
      "outputs": [
        {
          "output_type": "execute_result",
          "data": {
            "text/html": [
              "\n",
              "  <div id=\"df-1ec363ac-bbb1-4a3c-baba-19c5c90197f6\">\n",
              "    <div class=\"colab-df-container\">\n",
              "      <div>\n",
              "<style scoped>\n",
              "    .dataframe tbody tr th:only-of-type {\n",
              "        vertical-align: middle;\n",
              "    }\n",
              "\n",
              "    .dataframe tbody tr th {\n",
              "        vertical-align: top;\n",
              "    }\n",
              "\n",
              "    .dataframe thead th {\n",
              "        text-align: right;\n",
              "    }\n",
              "</style>\n",
              "<table border=\"1\" class=\"dataframe\">\n",
              "  <thead>\n",
              "    <tr style=\"text-align: right;\">\n",
              "      <th></th>\n",
              "      <th>emotion</th>\n",
              "      <th>pixels</th>\n",
              "      <th>Usage</th>\n",
              "    </tr>\n",
              "  </thead>\n",
              "  <tbody>\n",
              "    <tr>\n",
              "      <th>0</th>\n",
              "      <td>0</td>\n",
              "      <td>70 80 82 72 58 58 60 63 54 58 60 48 89 115 121...</td>\n",
              "      <td>Training</td>\n",
              "    </tr>\n",
              "    <tr>\n",
              "      <th>1</th>\n",
              "      <td>0</td>\n",
              "      <td>151 150 147 155 148 133 111 140 170 174 182 15...</td>\n",
              "      <td>Training</td>\n",
              "    </tr>\n",
              "    <tr>\n",
              "      <th>2</th>\n",
              "      <td>2</td>\n",
              "      <td>231 212 156 164 174 138 161 173 182 200 106 38...</td>\n",
              "      <td>Training</td>\n",
              "    </tr>\n",
              "    <tr>\n",
              "      <th>3</th>\n",
              "      <td>4</td>\n",
              "      <td>24 32 36 30 32 23 19 20 30 41 21 22 32 34 21 1...</td>\n",
              "      <td>Training</td>\n",
              "    </tr>\n",
              "    <tr>\n",
              "      <th>4</th>\n",
              "      <td>6</td>\n",
              "      <td>4 0 0 0 0 0 0 0 0 0 0 0 3 15 23 28 48 50 58 84...</td>\n",
              "      <td>Training</td>\n",
              "    </tr>\n",
              "  </tbody>\n",
              "</table>\n",
              "</div>\n",
              "      <button class=\"colab-df-convert\" onclick=\"convertToInteractive('df-1ec363ac-bbb1-4a3c-baba-19c5c90197f6')\"\n",
              "              title=\"Convert this dataframe to an interactive table.\"\n",
              "              style=\"display:none;\">\n",
              "        \n",
              "  <svg xmlns=\"http://www.w3.org/2000/svg\" height=\"24px\"viewBox=\"0 0 24 24\"\n",
              "       width=\"24px\">\n",
              "    <path d=\"M0 0h24v24H0V0z\" fill=\"none\"/>\n",
              "    <path d=\"M18.56 5.44l.94 2.06.94-2.06 2.06-.94-2.06-.94-.94-2.06-.94 2.06-2.06.94zm-11 1L8.5 8.5l.94-2.06 2.06-.94-2.06-.94L8.5 2.5l-.94 2.06-2.06.94zm10 10l.94 2.06.94-2.06 2.06-.94-2.06-.94-.94-2.06-.94 2.06-2.06.94z\"/><path d=\"M17.41 7.96l-1.37-1.37c-.4-.4-.92-.59-1.43-.59-.52 0-1.04.2-1.43.59L10.3 9.45l-7.72 7.72c-.78.78-.78 2.05 0 2.83L4 21.41c.39.39.9.59 1.41.59.51 0 1.02-.2 1.41-.59l7.78-7.78 2.81-2.81c.8-.78.8-2.07 0-2.86zM5.41 20L4 18.59l7.72-7.72 1.47 1.35L5.41 20z\"/>\n",
              "  </svg>\n",
              "      </button>\n",
              "      \n",
              "  <style>\n",
              "    .colab-df-container {\n",
              "      display:flex;\n",
              "      flex-wrap:wrap;\n",
              "      gap: 12px;\n",
              "    }\n",
              "\n",
              "    .colab-df-convert {\n",
              "      background-color: #E8F0FE;\n",
              "      border: none;\n",
              "      border-radius: 50%;\n",
              "      cursor: pointer;\n",
              "      display: none;\n",
              "      fill: #1967D2;\n",
              "      height: 32px;\n",
              "      padding: 0 0 0 0;\n",
              "      width: 32px;\n",
              "    }\n",
              "\n",
              "    .colab-df-convert:hover {\n",
              "      background-color: #E2EBFA;\n",
              "      box-shadow: 0px 1px 2px rgba(60, 64, 67, 0.3), 0px 1px 3px 1px rgba(60, 64, 67, 0.15);\n",
              "      fill: #174EA6;\n",
              "    }\n",
              "\n",
              "    [theme=dark] .colab-df-convert {\n",
              "      background-color: #3B4455;\n",
              "      fill: #D2E3FC;\n",
              "    }\n",
              "\n",
              "    [theme=dark] .colab-df-convert:hover {\n",
              "      background-color: #434B5C;\n",
              "      box-shadow: 0px 1px 3px 1px rgba(0, 0, 0, 0.15);\n",
              "      filter: drop-shadow(0px 1px 2px rgba(0, 0, 0, 0.3));\n",
              "      fill: #FFFFFF;\n",
              "    }\n",
              "  </style>\n",
              "\n",
              "      <script>\n",
              "        const buttonEl =\n",
              "          document.querySelector('#df-1ec363ac-bbb1-4a3c-baba-19c5c90197f6 button.colab-df-convert');\n",
              "        buttonEl.style.display =\n",
              "          google.colab.kernel.accessAllowed ? 'block' : 'none';\n",
              "\n",
              "        async function convertToInteractive(key) {\n",
              "          const element = document.querySelector('#df-1ec363ac-bbb1-4a3c-baba-19c5c90197f6');\n",
              "          const dataTable =\n",
              "            await google.colab.kernel.invokeFunction('convertToInteractive',\n",
              "                                                     [key], {});\n",
              "          if (!dataTable) return;\n",
              "\n",
              "          const docLinkHtml = 'Like what you see? Visit the ' +\n",
              "            '<a target=\"_blank\" href=https://colab.research.google.com/notebooks/data_table.ipynb>data table notebook</a>'\n",
              "            + ' to learn more about interactive tables.';\n",
              "          element.innerHTML = '';\n",
              "          dataTable['output_type'] = 'display_data';\n",
              "          await google.colab.output.renderOutput(dataTable, element);\n",
              "          const docLink = document.createElement('div');\n",
              "          docLink.innerHTML = docLinkHtml;\n",
              "          element.appendChild(docLink);\n",
              "        }\n",
              "      </script>\n",
              "    </div>\n",
              "  </div>\n",
              "  "
            ],
            "text/plain": [
              "   emotion                                             pixels     Usage\n",
              "0        0  70 80 82 72 58 58 60 63 54 58 60 48 89 115 121...  Training\n",
              "1        0  151 150 147 155 148 133 111 140 170 174 182 15...  Training\n",
              "2        2  231 212 156 164 174 138 161 173 182 200 106 38...  Training\n",
              "3        4  24 32 36 30 32 23 19 20 30 41 21 22 32 34 21 1...  Training\n",
              "4        6  4 0 0 0 0 0 0 0 0 0 0 0 3 15 23 28 48 50 58 84...  Training"
            ]
          },
          "metadata": {},
          "execution_count": 5
        }
      ],
      "source": [
        "# view first 5 rows of data\n",
        "df.head(5)"
      ]
    },
    {
      "cell_type": "code",
      "execution_count": 6,
      "id": "edea6fd4",
      "metadata": {
        "execution": {
          "iopub.execute_input": "2021-11-13T20:10:29.504245Z",
          "iopub.status.busy": "2021-11-13T20:10:29.503071Z",
          "iopub.status.idle": "2021-11-13T20:10:29.506584Z",
          "shell.execute_reply": "2021-11-13T20:10:29.506156Z",
          "shell.execute_reply.started": "2021-11-13T19:50:37.486670Z"
        },
        "papermill": {
          "duration": 0.034114,
          "end_time": "2021-11-13T20:10:29.506697",
          "exception": false,
          "start_time": "2021-11-13T20:10:29.472583",
          "status": "completed"
        },
        "tags": [],
        "id": "edea6fd4",
        "colab": {
          "base_uri": "https://localhost:8080/"
        },
        "outputId": "740b3819-e176-4e8f-ba8d-60d5bda53679"
      },
      "outputs": [
        {
          "output_type": "execute_result",
          "data": {
            "text/plain": [
              "Training       28709\n",
              "PublicTest      3589\n",
              "PrivateTest     3589\n",
              "Name: Usage, dtype: int64"
            ]
          },
          "metadata": {},
          "execution_count": 6
        }
      ],
      "source": [
        "#check usage values\n",
        "#80% training, 10% validation and 10% test\n",
        "df.Usage.value_counts()"
      ]
    },
    {
      "cell_type": "code",
      "execution_count": 7,
      "id": "4dfda747",
      "metadata": {
        "execution": {
          "iopub.execute_input": "2021-11-13T20:10:29.555158Z",
          "iopub.status.busy": "2021-11-13T20:10:29.554618Z",
          "iopub.status.idle": "2021-11-13T20:10:29.559900Z",
          "shell.execute_reply": "2021-11-13T20:10:29.559512Z",
          "shell.execute_reply.started": "2021-11-13T19:50:37.504612Z"
        },
        "papermill": {
          "duration": 0.036544,
          "end_time": "2021-11-13T20:10:29.560006",
          "exception": false,
          "start_time": "2021-11-13T20:10:29.523462",
          "status": "completed"
        },
        "tags": [],
        "id": "4dfda747",
        "colab": {
          "base_uri": "https://localhost:8080/",
          "height": 269
        },
        "outputId": "e1d83057-f064-4728-d3aa-e45d5c59dd2f"
      },
      "outputs": [
        {
          "output_type": "execute_result",
          "data": {
            "text/html": [
              "\n",
              "  <div id=\"df-09aa1f5f-0641-4226-861a-bd2a8909c813\">\n",
              "    <div class=\"colab-df-container\">\n",
              "      <div>\n",
              "<style scoped>\n",
              "    .dataframe tbody tr th:only-of-type {\n",
              "        vertical-align: middle;\n",
              "    }\n",
              "\n",
              "    .dataframe tbody tr th {\n",
              "        vertical-align: top;\n",
              "    }\n",
              "\n",
              "    .dataframe thead th {\n",
              "        text-align: right;\n",
              "    }\n",
              "</style>\n",
              "<table border=\"1\" class=\"dataframe\">\n",
              "  <thead>\n",
              "    <tr style=\"text-align: right;\">\n",
              "      <th></th>\n",
              "      <th>emotion</th>\n",
              "      <th>number</th>\n",
              "    </tr>\n",
              "  </thead>\n",
              "  <tbody>\n",
              "    <tr>\n",
              "      <th>0</th>\n",
              "      <td>Angry</td>\n",
              "      <td>4953</td>\n",
              "    </tr>\n",
              "    <tr>\n",
              "      <th>1</th>\n",
              "      <td>Digust</td>\n",
              "      <td>547</td>\n",
              "    </tr>\n",
              "    <tr>\n",
              "      <th>2</th>\n",
              "      <td>Fear</td>\n",
              "      <td>5121</td>\n",
              "    </tr>\n",
              "    <tr>\n",
              "      <th>3</th>\n",
              "      <td>Happy</td>\n",
              "      <td>8989</td>\n",
              "    </tr>\n",
              "    <tr>\n",
              "      <th>4</th>\n",
              "      <td>Sad</td>\n",
              "      <td>6077</td>\n",
              "    </tr>\n",
              "    <tr>\n",
              "      <th>5</th>\n",
              "      <td>Surprise</td>\n",
              "      <td>4002</td>\n",
              "    </tr>\n",
              "    <tr>\n",
              "      <th>6</th>\n",
              "      <td>Neutral</td>\n",
              "      <td>6198</td>\n",
              "    </tr>\n",
              "  </tbody>\n",
              "</table>\n",
              "</div>\n",
              "      <button class=\"colab-df-convert\" onclick=\"convertToInteractive('df-09aa1f5f-0641-4226-861a-bd2a8909c813')\"\n",
              "              title=\"Convert this dataframe to an interactive table.\"\n",
              "              style=\"display:none;\">\n",
              "        \n",
              "  <svg xmlns=\"http://www.w3.org/2000/svg\" height=\"24px\"viewBox=\"0 0 24 24\"\n",
              "       width=\"24px\">\n",
              "    <path d=\"M0 0h24v24H0V0z\" fill=\"none\"/>\n",
              "    <path d=\"M18.56 5.44l.94 2.06.94-2.06 2.06-.94-2.06-.94-.94-2.06-.94 2.06-2.06.94zm-11 1L8.5 8.5l.94-2.06 2.06-.94-2.06-.94L8.5 2.5l-.94 2.06-2.06.94zm10 10l.94 2.06.94-2.06 2.06-.94-2.06-.94-.94-2.06-.94 2.06-2.06.94z\"/><path d=\"M17.41 7.96l-1.37-1.37c-.4-.4-.92-.59-1.43-.59-.52 0-1.04.2-1.43.59L10.3 9.45l-7.72 7.72c-.78.78-.78 2.05 0 2.83L4 21.41c.39.39.9.59 1.41.59.51 0 1.02-.2 1.41-.59l7.78-7.78 2.81-2.81c.8-.78.8-2.07 0-2.86zM5.41 20L4 18.59l7.72-7.72 1.47 1.35L5.41 20z\"/>\n",
              "  </svg>\n",
              "      </button>\n",
              "      \n",
              "  <style>\n",
              "    .colab-df-container {\n",
              "      display:flex;\n",
              "      flex-wrap:wrap;\n",
              "      gap: 12px;\n",
              "    }\n",
              "\n",
              "    .colab-df-convert {\n",
              "      background-color: #E8F0FE;\n",
              "      border: none;\n",
              "      border-radius: 50%;\n",
              "      cursor: pointer;\n",
              "      display: none;\n",
              "      fill: #1967D2;\n",
              "      height: 32px;\n",
              "      padding: 0 0 0 0;\n",
              "      width: 32px;\n",
              "    }\n",
              "\n",
              "    .colab-df-convert:hover {\n",
              "      background-color: #E2EBFA;\n",
              "      box-shadow: 0px 1px 2px rgba(60, 64, 67, 0.3), 0px 1px 3px 1px rgba(60, 64, 67, 0.15);\n",
              "      fill: #174EA6;\n",
              "    }\n",
              "\n",
              "    [theme=dark] .colab-df-convert {\n",
              "      background-color: #3B4455;\n",
              "      fill: #D2E3FC;\n",
              "    }\n",
              "\n",
              "    [theme=dark] .colab-df-convert:hover {\n",
              "      background-color: #434B5C;\n",
              "      box-shadow: 0px 1px 3px 1px rgba(0, 0, 0, 0.15);\n",
              "      filter: drop-shadow(0px 1px 2px rgba(0, 0, 0, 0.3));\n",
              "      fill: #FFFFFF;\n",
              "    }\n",
              "  </style>\n",
              "\n",
              "      <script>\n",
              "        const buttonEl =\n",
              "          document.querySelector('#df-09aa1f5f-0641-4226-861a-bd2a8909c813 button.colab-df-convert');\n",
              "        buttonEl.style.display =\n",
              "          google.colab.kernel.accessAllowed ? 'block' : 'none';\n",
              "\n",
              "        async function convertToInteractive(key) {\n",
              "          const element = document.querySelector('#df-09aa1f5f-0641-4226-861a-bd2a8909c813');\n",
              "          const dataTable =\n",
              "            await google.colab.kernel.invokeFunction('convertToInteractive',\n",
              "                                                     [key], {});\n",
              "          if (!dataTable) return;\n",
              "\n",
              "          const docLinkHtml = 'Like what you see? Visit the ' +\n",
              "            '<a target=\"_blank\" href=https://colab.research.google.com/notebooks/data_table.ipynb>data table notebook</a>'\n",
              "            + ' to learn more about interactive tables.';\n",
              "          element.innerHTML = '';\n",
              "          dataTable['output_type'] = 'display_data';\n",
              "          await google.colab.output.renderOutput(dataTable, element);\n",
              "          const docLink = document.createElement('div');\n",
              "          docLink.innerHTML = docLinkHtml;\n",
              "          element.appendChild(docLink);\n",
              "        }\n",
              "      </script>\n",
              "    </div>\n",
              "  </div>\n",
              "  "
            ],
            "text/plain": [
              "    emotion  number\n",
              "0     Angry    4953\n",
              "1    Digust     547\n",
              "2      Fear    5121\n",
              "3     Happy    8989\n",
              "4       Sad    6077\n",
              "5  Surprise    4002\n",
              "6   Neutral    6198"
            ]
          },
          "metadata": {},
          "execution_count": 7
        }
      ],
      "source": [
        "#check target labels\n",
        "emotion_map = {0: 'Angry', 1: 'Digust', 2: 'Fear', 3: 'Happy', 4: 'Sad', 5: 'Surprise', 6: 'Neutral'}\n",
        "emotion_counts = df['emotion'].value_counts(sort=False).reset_index()\n",
        "emotion_counts.columns = ['emotion', 'number']\n",
        "\n",
        "emotion_counts['emotion'] = emotion_counts['emotion'].map(emotion_map)\n",
        "emotion_counts"
      ]
    },
    {
      "cell_type": "code",
      "execution_count": 8,
      "id": "01efcdf3",
      "metadata": {
        "execution": {
          "iopub.execute_input": "2021-11-13T20:10:29.599749Z",
          "iopub.status.busy": "2021-11-13T20:10:29.598928Z",
          "iopub.status.idle": "2021-11-13T20:10:29.826134Z",
          "shell.execute_reply": "2021-11-13T20:10:29.825604Z",
          "shell.execute_reply.started": "2021-11-13T19:50:37.528708Z"
        },
        "papermill": {
          "duration": 0.249442,
          "end_time": "2021-11-13T20:10:29.826270",
          "exception": false,
          "start_time": "2021-11-13T20:10:29.576828",
          "status": "completed"
        },
        "tags": [],
        "id": "01efcdf3",
        "colab": {
          "base_uri": "https://localhost:8080/",
          "height": 353
        },
        "outputId": "08743859-5f6d-4808-aa2a-b1a789e9d7a1"
      },
      "outputs": [
        {
          "output_type": "stream",
          "name": "stderr",
          "text": [
            "/usr/local/lib/python3.7/dist-packages/seaborn/_decorators.py:43: FutureWarning: Pass the following variables as keyword args: x, y. From version 0.12, the only valid positional argument will be `data`, and passing other arguments without an explicit keyword will result in an error or misinterpretation.\n",
            "  FutureWarning\n"
          ]
        },
        {
          "output_type": "display_data",
          "data": {
            "image/png": "[encoded data removed]",
            "text/plain": [
              "<Figure size 432x288 with 1 Axes>"
            ]
          },
          "metadata": {
            "needs_background": "light"
          }
        }
      ],
      "source": [
        "# Plotting a bar graph of the class distributions\n",
        "plt.figure(figsize=(6,4))\n",
        "sns.barplot(emotion_counts.emotion, emotion_counts.number)\n",
        "plt.title('Class distribution')\n",
        "plt.ylabel('Number', fontsize=12)\n",
        "plt.xlabel('Emotions', fontsize=12)\n",
        "plt.show()"
      ]
    },
    {
      "cell_type": "markdown",
      "id": "c0df2622",
      "metadata": {
        "papermill": {
          "duration": 0.017741,
          "end_time": "2021-11-13T20:10:29.863338",
          "exception": false,
          "start_time": "2021-11-13T20:10:29.845597",
          "status": "completed"
        },
        "tags": [],
        "id": "c0df2622"
      },
      "source": [
        "Looking at some images from the dataset..."
      ]
    },
    {
      "cell_type": "code",
      "execution_count": 9,
      "id": "543c4974",
      "metadata": {
        "execution": {
          "iopub.execute_input": "2021-11-13T20:10:29.908782Z",
          "iopub.status.busy": "2021-11-13T20:10:29.908268Z",
          "iopub.status.idle": "2021-11-13T20:10:30.698732Z",
          "shell.execute_reply": "2021-11-13T20:10:30.699168Z",
          "shell.execute_reply.started": "2021-11-13T19:50:37.794278Z"
        },
        "papermill": {
          "duration": 0.817558,
          "end_time": "2021-11-13T20:10:30.699323",
          "exception": false,
          "start_time": "2021-11-13T20:10:29.881765",
          "status": "completed"
        },
        "tags": [],
        "id": "543c4974",
        "colab": {
          "base_uri": "https://localhost:8080/",
          "height": 817
        },
        "outputId": "9b23c1df-acdc-4ebc-e83b-cd75127854f5"
      },
      "outputs": [
        {
          "output_type": "stream",
          "name": "stderr",
          "text": [
            "/usr/local/lib/python3.7/dist-packages/ipykernel_launcher.py:9: VisibleDeprecationWarning: Creating an ndarray from ragged nested sequences (which is a list-or-tuple of lists-or-tuples-or ndarrays with different lengths or shapes) is deprecated. If you meant to do this, you must specify 'dtype=object' when creating the ndarray\n",
            "  if __name__ == '__main__':\n",
            "/usr/local/lib/python3.7/dist-packages/ipykernel_launcher.py:9: VisibleDeprecationWarning: Creating an ndarray from ragged nested sequences (which is a list-or-tuple of lists-or-tuples-or ndarrays with different lengths or shapes) is deprecated. If you meant to do this, you must specify 'dtype=object' when creating the ndarray\n",
            "  if __name__ == '__main__':\n",
            "/usr/local/lib/python3.7/dist-packages/ipykernel_launcher.py:9: VisibleDeprecationWarning: Creating an ndarray from ragged nested sequences (which is a list-or-tuple of lists-or-tuples-or ndarrays with different lengths or shapes) is deprecated. If you meant to do this, you must specify 'dtype=object' when creating the ndarray\n",
            "  if __name__ == '__main__':\n",
            "/usr/local/lib/python3.7/dist-packages/ipykernel_launcher.py:9: VisibleDeprecationWarning: Creating an ndarray from ragged nested sequences (which is a list-or-tuple of lists-or-tuples-or ndarrays with different lengths or shapes) is deprecated. If you meant to do this, you must specify 'dtype=object' when creating the ndarray\n",
            "  if __name__ == '__main__':\n",
            "/usr/local/lib/python3.7/dist-packages/ipykernel_launcher.py:9: VisibleDeprecationWarning: Creating an ndarray from ragged nested sequences (which is a list-or-tuple of lists-or-tuples-or ndarrays with different lengths or shapes) is deprecated. If you meant to do this, you must specify 'dtype=object' when creating the ndarray\n",
            "  if __name__ == '__main__':\n",
            "/usr/local/lib/python3.7/dist-packages/ipykernel_launcher.py:9: VisibleDeprecationWarning: Creating an ndarray from ragged nested sequences (which is a list-or-tuple of lists-or-tuples-or ndarrays with different lengths or shapes) is deprecated. If you meant to do this, you must specify 'dtype=object' when creating the ndarray\n",
            "  if __name__ == '__main__':\n",
            "/usr/local/lib/python3.7/dist-packages/ipykernel_launcher.py:9: VisibleDeprecationWarning: Creating an ndarray from ragged nested sequences (which is a list-or-tuple of lists-or-tuples-or ndarrays with different lengths or shapes) is deprecated. If you meant to do this, you must specify 'dtype=object' when creating the ndarray\n",
            "  if __name__ == '__main__':\n"
          ]
        },
        {
          "output_type": "display_data",
          "data": {
            "image/png": "[encoded data removed]",
            "text/plain": [
              "<Figure size 1152x720 with 7 Axes>"
            ]
          },
          "metadata": {
            "needs_background": "light"
          }
        }
      ],
      "source": [
        "def row2image(row):\n",
        "    pixels, emotion = row['pixels'], emotion_map[row['emotion']]\n",
        "    img = np.array(pixels.split())\n",
        "    img = img.reshape(48,48)\n",
        "    image = np.zeros((48,48,3))\n",
        "    image[:,:,0] = img\n",
        "    image[:,:,1] = img\n",
        "    image[:,:,2] = img\n",
        "    return np.array([image.astype(np.uint8), emotion])\n",
        "\n",
        "plt.figure(0, figsize=(16,10))\n",
        "for i in range(1,8):\n",
        "    face = df[df['emotion'] == i-1].iloc[1]\n",
        "    img = row2image(face)\n",
        "    plt.subplot(2,4,i)\n",
        "    plt.imshow(img[0])\n",
        "    plt.title(img[1])\n",
        "\n",
        "plt.show()  "
      ]
    },
    {
      "cell_type": "markdown",
      "id": "3990294b",
      "metadata": {
        "papermill": {
          "duration": 0.020166,
          "end_time": "2021-11-13T20:10:30.739348",
          "exception": false,
          "start_time": "2021-11-13T20:10:30.719182",
          "status": "completed"
        },
        "tags": [],
        "id": "3990294b"
      },
      "source": [
        "# Pre-processing Data"
      ]
    },
    {
      "cell_type": "code",
      "execution_count": 10,
      "id": "ae0417bf",
      "metadata": {
        "execution": {
          "iopub.execute_input": "2021-11-13T20:10:30.790496Z",
          "iopub.status.busy": "2021-11-13T20:10:30.789677Z",
          "iopub.status.idle": "2021-11-13T20:10:30.808852Z",
          "shell.execute_reply": "2021-11-13T20:10:30.809445Z",
          "shell.execute_reply.started": "2021-11-13T19:50:38.787558Z"
        },
        "papermill": {
          "duration": 0.0502,
          "end_time": "2021-11-13T20:10:30.809628",
          "exception": false,
          "start_time": "2021-11-13T20:10:30.759428",
          "status": "completed"
        },
        "tags": [],
        "id": "ae0417bf",
        "colab": {
          "base_uri": "https://localhost:8080/"
        },
        "outputId": "5da818b2-52d3-49a2-e9a7-3fdc96a961d1"
      },
      "outputs": [
        {
          "output_type": "stream",
          "name": "stdout",
          "text": [
            "train shape: (28709, 3), \n",
            "validation shape: (3589, 3), \n",
            "test shape: (3589, 3)\n"
          ]
        }
      ],
      "source": [
        "#split data into training, validation and test set\n",
        "df_train = df[df['Usage']=='Training'].copy()\n",
        "df_val   = df[df['Usage']=='PublicTest'].copy()\n",
        "df_test  = df[df['Usage']=='PrivateTest'].copy()\n",
        "print(\"train shape: {}, \\nvalidation shape: {}, \\ntest shape: {}\".format(df_train.shape, df_val.shape, df_test.shape))"
      ]
    },
    {
      "cell_type": "code",
      "execution_count": 11,
      "id": "0c63c010",
      "metadata": {
        "execution": {
          "iopub.execute_input": "2021-11-13T20:10:30.864690Z",
          "iopub.status.busy": "2021-11-13T20:10:30.863872Z",
          "iopub.status.idle": "2021-11-13T20:10:31.384718Z",
          "shell.execute_reply": "2021-11-13T20:10:31.385148Z",
          "shell.execute_reply.started": "2021-11-13T19:50:38.819456Z"
        },
        "papermill": {
          "duration": 0.555066,
          "end_time": "2021-11-13T20:10:31.385295",
          "exception": false,
          "start_time": "2021-11-13T20:10:30.830229",
          "status": "completed"
        },
        "tags": [],
        "id": "0c63c010",
        "colab": {
          "base_uri": "https://localhost:8080/",
          "height": 486
        },
        "outputId": "9e8bf87f-312d-4439-afc1-f3877c412e70"
      },
      "outputs": [
        {
          "output_type": "display_data",
          "data": {
            "image/png": "[encoded data removed]",
            "text/plain": [
              "<Figure size 1440x576 with 3 Axes>"
            ]
          },
          "metadata": {
            "needs_background": "light"
          }
        }
      ],
      "source": [
        "# barplot class distribution of train, val and test\n",
        "emotion_labels = ['Angry','Fear','Sad','Neutral','Happy','Surprise','Disgust']\n",
        "\n",
        "def setup_axe(axe,df,title):\n",
        "    df['emotion'].value_counts(sort=False).plot(ax=axe, kind='bar', rot=0)\n",
        "    axe.set_xticklabels(emotion_labels)\n",
        "    axe.set_xlabel(\"Emotions\")\n",
        "    axe.set_ylabel(\"Number\")\n",
        "    axe.set_title(title)\n",
        "    \n",
        "    # set individual bar lables using above list\n",
        "    for i in axe.patches:\n",
        "        # get_x pulls left or right; get_height pushes up or down\n",
        "        axe.text(i.get_x()-.05, i.get_height()+120, \\\n",
        "                str(round((i.get_height()), 2)), fontsize=14, color='dimgrey',\n",
        "                    rotation=0)\n",
        "\n",
        "   \n",
        "fig, axes = plt.subplots(1,3, figsize=(20,8), sharey=True)\n",
        "setup_axe(axes[0],df_train,'train')\n",
        "setup_axe(axes[1],df_val,'validation')\n",
        "setup_axe(axes[2],df_test,'test')\n",
        "plt.show()"
      ]
    },
    {
      "cell_type": "code",
      "execution_count": 12,
      "id": "c30d4213",
      "metadata": {
        "execution": {
          "iopub.execute_input": "2021-11-13T20:10:31.432336Z",
          "iopub.status.busy": "2021-11-13T20:10:31.431609Z",
          "iopub.status.idle": "2021-11-13T20:10:31.434023Z",
          "shell.execute_reply": "2021-11-13T20:10:31.433632Z",
          "shell.execute_reply.started": "2021-11-13T19:50:39.489939Z"
        },
        "papermill": {
          "duration": 0.02732,
          "end_time": "2021-11-13T20:10:31.434156",
          "exception": false,
          "start_time": "2021-11-13T20:10:31.406836",
          "status": "completed"
        },
        "tags": [],
        "id": "c30d4213"
      },
      "outputs": [],
      "source": [
        "#initilize parameters\n",
        "num_classes = 7 \n",
        "width, height = 48, 48\n",
        "num_epochs = 50\n",
        "batch_size = 64\n",
        "num_features = 64"
      ]
    },
    {
      "cell_type": "code",
      "source": [
        "def load_data(dataset_path): #Run once\n",
        "  \n",
        "  #classes = ['Angry', 'Disgust', 'Fear', 'Happy', 'Sad', 'Surprsie', 'Neutral']  #We will be dealing with seven different types of emotions.\n",
        "\n",
        "  data = []\n",
        "  test_data = []\n",
        "  test_labels = []\n",
        "  labels =[]\n",
        "\n",
        "  with open(dataset_path, 'r') as file:\n",
        "      for line_no, line in enumerate(file.readlines()):\n",
        "          if 0 < line_no <= 35887:\n",
        "            curr_class, line, set_type = line.split(',')\n",
        "            image_data = np.asarray([int(x) for x in line.split()]).reshape(48, 48)#Creating a list out of the string then converting it into a 2-Dimensional numpy array.\n",
        "            image_data =image_data.astype(np.uint8)/255.0\n",
        "            \n",
        "            if (set_type.strip() == 'PrivateTest'):\n",
        "              \n",
        "              test_data.append(image_data)\n",
        "              test_labels.append(curr_class)\n",
        "            else:\n",
        "              data.append(image_data)\n",
        "              labels.append(curr_class)\n",
        "      \n",
        "      test_data = np.expand_dims(test_data, -1)\n",
        "      test_labels = to_categorical(test_labels, num_classes = 7)\n",
        "      data = np.expand_dims(data, -1)   \n",
        "      labels = to_categorical(labels, num_classes = 7)\n",
        "    \n",
        "      return np.array(data), np.array(labels), np.array(test_data), np.array(test_labels)"
      ],
      "metadata": {
        "id": "WgA0QcuUJP9t"
      },
      "id": "WgA0QcuUJP9t",
      "execution_count": 13,
      "outputs": []
    },
    {
      "cell_type": "code",
      "execution_count": 14,
      "id": "09fe56a3",
      "metadata": {
        "execution": {
          "iopub.execute_input": "2021-11-13T20:10:31.492861Z",
          "iopub.status.busy": "2021-11-13T20:10:31.487613Z",
          "iopub.status.idle": "2021-11-13T20:11:06.822625Z",
          "shell.execute_reply": "2021-11-13T20:11:06.822171Z",
          "shell.execute_reply.started": "2021-11-13T19:50:39.498550Z"
        },
        "papermill": {
          "duration": 35.367506,
          "end_time": "2021-11-13T20:11:06.822756",
          "exception": false,
          "start_time": "2021-11-13T20:10:31.455250",
          "status": "completed"
        },
        "tags": [],
        "id": "09fe56a3",
        "colab": {
          "base_uri": "https://localhost:8080/"
        },
        "outputId": "485c4c3f-0441-456f-e708-7d09579dcd58"
      },
      "outputs": [
        {
          "output_type": "stream",
          "name": "stdout",
          "text": [
            "Number of images in Training set: 32298\n",
            "Number of images in Test set: 3589\n"
          ]
        }
      ],
      "source": [
        "dataset_path = \"/content/drive/MyDrive/Capstone Project  5/fer2013.csv\"\n",
        "train_data, train_labels, test_data, test_labels = load_data(dataset_path)\n",
        "#train_data, test_data, train_labels, test_labels = train_test_split(data, labels, test_size = test_size,random_state = seed)\n",
        "\n",
        "print(\"Number of images in Training set:\", len(train_data))\n",
        "print(\"Number of images in Test set:\", len(test_data))"
      ]
    },
    {
      "cell_type": "markdown",
      "id": "9cba3b85",
      "metadata": {
        "papermill": {
          "duration": 0.022219,
          "end_time": "2021-11-13T20:11:06.867459",
          "exception": false,
          "start_time": "2021-11-13T20:11:06.845240",
          "status": "completed"
        },
        "tags": [],
        "id": "9cba3b85"
      },
      "source": [
        "# Building CNN Model\n",
        "**CNN Architecture**\n",
        "\n",
        "    Conv -> BN -> Activation -> Conv -> BN -> Activation -> MaxPooling\n",
        "    Conv -> BN -> Activation -> Conv -> BN -> Activation -> MaxPooling\n",
        "    Conv -> BN -> Activation -> Conv -> BN -> Activation -> MaxPooling\n",
        "    Flatten\n",
        "    Dense -> BN -> Activation\n",
        "    Dense -> BN -> Activation\n",
        "    Dense -> BN -> Activation\n",
        "    Output layer"
      ]
    },
    {
      "cell_type": "code",
      "source": [
        "from tensorflow.keras import optimizers\n",
        "from keras.callbacks import ReduceLROnPlateau, EarlyStopping, TensorBoard, ModelCheckpoint\n"
      ],
      "metadata": {
        "id": "lJP9Ucuzwb6x"
      },
      "id": "lJP9Ucuzwb6x",
      "execution_count": 15,
      "outputs": []
    },
    {
      "cell_type": "code",
      "source": [
        "from keras.layers import Convolution2D, Activation, BatchNormalization, MaxPooling2D, Dropout, Dense, Flatten, AveragePooling2D\n",
        "from keras.models import Sequential\n",
        "\n",
        "model = Sequential()\n",
        "\n",
        "model.add(Convolution2D(64, (3, 1), padding='same', input_shape=(48,48,1)))\n",
        "model.add(Convolution2D(64, (1, 3), padding='same'))\n",
        "model.add(BatchNormalization())\n",
        "model.add(Activation('relu'))\n",
        "model.add(MaxPooling2D(pool_size=(2, 2), strides=None, padding='same'))\n",
        "model.add(Dropout(0.25))\n",
        "\n",
        "model.add(Convolution2D(128, (3, 1), padding='same'))\n",
        "model.add(Convolution2D(128, (1, 3), padding='same'))\n",
        "model.add(BatchNormalization())\n",
        "model.add(Activation('relu'))\n",
        "model.add(MaxPooling2D(pool_size=(2, 2), strides=None, padding='same'))\n",
        "model.add(Dropout(0.25))\n",
        "\n",
        "model.add(Convolution2D(256, (3, 1), padding='same'))\n",
        "model.add(Convolution2D(256, (1, 3), padding='same'))\n",
        "model.add(BatchNormalization())\n",
        "model.add(Activation('relu'))\n",
        "model.add(MaxPooling2D(pool_size=(2, 2), strides=None, padding='same'))\n",
        "model.add(Dropout(0.25))\n",
        "\n",
        "model.add(Convolution2D(512, (3, 1), padding='same'))\n",
        "model.add(Convolution2D(512, (1, 3), padding='same'))\n",
        "model.add(BatchNormalization())\n",
        "model.add(Activation('relu'))\n",
        "model.add(MaxPooling2D(pool_size=(2, 2), strides=None, padding='same'))\n",
        "model.add(Dropout(0.25))\n",
        "\n",
        "model.add(Flatten())\n",
        "\n",
        "model.add(Dense(512))\n",
        "model.add(BatchNormalization())\n",
        "model.add(Activation('relu'))\n",
        "model.add(Dropout(0.25))\n",
        "\n",
        "model.add(Dense(256))\n",
        "model.add(BatchNormalization())\n",
        "model.add(Activation('relu'))\n",
        "model.add(Dropout(0.25))\n",
        "\n",
        "model.add(Dense(7))\n",
        "model.add(Activation('softmax'))\n",
        "\n",
        "model.summary()"
      ],
      "metadata": {
        "id": "JnHi75qluWKg",
        "colab": {
          "base_uri": "https://localhost:8080/"
        },
        "outputId": "85bedcdd-cb3a-437b-934a-878affe5ba01"
      },
      "id": "JnHi75qluWKg",
      "execution_count": 16,
      "outputs": [
        {
          "output_type": "stream",
          "name": "stdout",
          "text": [
            "Model: \"sequential\"\n",
            "_________________________________________________________________\n",
            " Layer (type)                Output Shape              Param #   \n",
            "=================================================================\n",
            " conv2d (Conv2D)             (None, 48, 48, 64)        256       \n",
            "                                                                 \n",
            " conv2d_1 (Conv2D)           (None, 48, 48, 64)        12352     \n",
            "                                                                 \n",
            " batch_normalization (BatchN  (None, 48, 48, 64)       256       \n",
            " ormalization)                                                   \n",
            "                                                                 \n",
            " activation (Activation)     (None, 48, 48, 64)        0         \n",
            "                                                                 \n",
            " max_pooling2d (MaxPooling2D  (None, 24, 24, 64)       0         \n",
            " )                                                               \n",
            "                                                                 \n",
            " dropout (Dropout)           (None, 24, 24, 64)        0         \n",
            "                                                                 \n",
            " conv2d_2 (Conv2D)           (None, 24, 24, 128)       24704     \n",
            "                                                                 \n",
            " conv2d_3 (Conv2D)           (None, 24, 24, 128)       49280     \n",
            "                                                                 \n",
            " batch_normalization_1 (Batc  (None, 24, 24, 128)      512       \n",
            " hNormalization)                                                 \n",
            "                                                                 \n",
            " activation_1 (Activation)   (None, 24, 24, 128)       0         \n",
            "                                                                 \n",
            " max_pooling2d_1 (MaxPooling  (None, 12, 12, 128)      0         \n",
            " 2D)                                                             \n",
            "                                                                 \n",
            " dropout_1 (Dropout)         (None, 12, 12, 128)       0         \n",
            "                                                                 \n",
            " conv2d_4 (Conv2D)           (None, 12, 12, 256)       98560     \n",
            "                                                                 \n",
            " conv2d_5 (Conv2D)           (None, 12, 12, 256)       196864    \n",
            "                                                                 \n",
            " batch_normalization_2 (Batc  (None, 12, 12, 256)      1024      \n",
            " hNormalization)                                                 \n",
            "                                                                 \n",
            " activation_2 (Activation)   (None, 12, 12, 256)       0         \n",
            "                                                                 \n",
            " max_pooling2d_2 (MaxPooling  (None, 6, 6, 256)        0         \n",
            " 2D)                                                             \n",
            "                                                                 \n",
            " dropout_2 (Dropout)         (None, 6, 6, 256)         0         \n",
            "                                                                 \n",
            " conv2d_6 (Conv2D)           (None, 6, 6, 512)         393728    \n",
            "                                                                 \n",
            " conv2d_7 (Conv2D)           (None, 6, 6, 512)         786944    \n",
            "                                                                 \n",
            " batch_normalization_3 (Batc  (None, 6, 6, 512)        2048      \n",
            " hNormalization)                                                 \n",
            "                                                                 \n",
            " activation_3 (Activation)   (None, 6, 6, 512)         0         \n",
            "                                                                 \n",
            " max_pooling2d_3 (MaxPooling  (None, 3, 3, 512)        0         \n",
            " 2D)                                                             \n",
            "                                                                 \n",
            " dropout_3 (Dropout)         (None, 3, 3, 512)         0         \n",
            "                                                                 \n",
            " flatten (Flatten)           (None, 4608)              0         \n",
            "                                                                 \n",
            " dense (Dense)               (None, 512)               2359808   \n",
            "                                                                 \n",
            " batch_normalization_4 (Batc  (None, 512)              2048      \n",
            " hNormalization)                                                 \n",
            "                                                                 \n",
            " activation_4 (Activation)   (None, 512)               0         \n",
            "                                                                 \n",
            " dropout_4 (Dropout)         (None, 512)               0         \n",
            "                                                                 \n",
            " dense_1 (Dense)             (None, 256)               131328    \n",
            "                                                                 \n",
            " batch_normalization_5 (Batc  (None, 256)              1024      \n",
            " hNormalization)                                                 \n",
            "                                                                 \n",
            " activation_5 (Activation)   (None, 256)               0         \n",
            "                                                                 \n",
            " dropout_5 (Dropout)         (None, 256)               0         \n",
            "                                                                 \n",
            " dense_2 (Dense)             (None, 7)                 1799      \n",
            "                                                                 \n",
            " activation_6 (Activation)   (None, 7)                 0         \n",
            "                                                                 \n",
            "=================================================================\n",
            "Total params: 4,062,535\n",
            "Trainable params: 4,059,079\n",
            "Non-trainable params: 3,456\n",
            "_________________________________________________________________\n"
          ]
        }
      ]
    },
    {
      "cell_type": "code",
      "source": [
        "from keras.preprocessing.image import ImageDataGenerator \n",
        "\n",
        "datagen = ImageDataGenerator(\n",
        "    featurewise_center=False,  # set input mean to 0 over the dataset\n",
        "    samplewise_center=False,  # set each sample mean to 0\n",
        "    featurewise_std_normalization=False,  # divide inputs by std of the dataset\n",
        "    samplewise_std_normalization=False,  # divide each input by its std\n",
        "    zca_whitening=False,  # apply ZCA whitening\n",
        "    rotation_range=0,  # randomly rotate images in the range (degrees, 0 to 180)\n",
        "    width_shift_range=0.0,  # randomly shift images horizontally (fraction of total width)\n",
        "    height_shift_range=0.0,  # randomly shift images vertically (fraction of total height)\n",
        "    horizontal_flip=True,  # randomly flip images\n",
        "    vertical_flip=False,   # randomly flip images\n",
        "    )\n",
        "\n",
        "\n",
        "datagen.fit(train_data)\n",
        "datagen.fit(test_data)"
      ],
      "metadata": {
        "id": "ABb_okWSwBlH"
      },
      "id": "ABb_okWSwBlH",
      "execution_count": 17,
      "outputs": []
    },
    {
      "cell_type": "code",
      "source": [
        "batch_size = 32\n",
        "\n",
        "num_epochs = 50"
      ],
      "metadata": {
        "id": "WxiF-jmGxY6q"
      },
      "id": "WxiF-jmGxY6q",
      "execution_count": 18,
      "outputs": []
    },
    {
      "cell_type": "code",
      "source": [
        "from keras.callbacks import ModelCheckpoint, EarlyStopping, ReduceLROnPlateau\n",
        "\n",
        "filepath='/content/drive/MyDrive/Capstone Project  5/weight.hd5'\n",
        "checkpointer = ModelCheckpoint(filepath, monitor='val_loss', verbose=1, save_best_only=False, mode='auto')\n",
        "reduce_lr = ReduceLROnPlateau(monitor='val_loss', factor=0.1, patience=10, verbose=0, mode='auto', min_delta=0.0001, cooldown=0, min_lr=0)\n",
        "early_stop = EarlyStopping(monitor='val_loss', min_delta=0, patience=0, verbose=0, mode='auto')\n",
        "\n"
      ],
      "metadata": {
        "id": "WKIopF8YG3jv"
      },
      "id": "WKIopF8YG3jv",
      "execution_count": 19,
      "outputs": []
    },
    {
      "cell_type": "code",
      "source": [
        "model.compile(loss='categorical_crossentropy',\n",
        "             optimizer='adam',\n",
        "             metrics=[ 'acc'])"
      ],
      "metadata": {
        "id": "JqnfzMDkG8iy"
      },
      "id": "JqnfzMDkG8iy",
      "execution_count": 20,
      "outputs": []
    },
    {
      "cell_type": "code",
      "source": [
        "train_flow = datagen.flow(train_data, train_labels, batch_size=batch_size)\n",
        "validation_flow = datagen.flow(test_data, test_labels)"
      ],
      "metadata": {
        "id": "n0-uKESlHAay"
      },
      "id": "n0-uKESlHAay",
      "execution_count": 21,
      "outputs": []
    },
    {
      "cell_type": "code",
      "source": [
        "%%time\n",
        "history = model.fit_generator(train_flow,\n",
        "                    steps_per_epoch=len(train_data) / batch_size,\n",
        "                    epochs=num_epochs, \n",
        "                    verbose=1, \n",
        "                    validation_data=validation_flow, \n",
        "                    validation_steps=len(test_data) / batch_size,\n",
        "                    )"
      ],
      "metadata": {
        "colab": {
          "base_uri": "https://localhost:8080/"
        },
        "id": "KtgyktyUHaBR",
        "outputId": "5556af6e-8a1d-47ba-da3c-50fdd9603f0e"
      },
      "id": "KtgyktyUHaBR",
      "execution_count": 22,
      "outputs": [
        {
          "output_type": "stream",
          "name": "stderr",
          "text": [
            "/usr/local/lib/python3.7/dist-packages/ipykernel_launcher.py:6: UserWarning: `Model.fit_generator` is deprecated and will be removed in a future version. Please use `Model.fit`, which supports generators.\n",
            "  \n"
          ]
        },
        {
          "output_type": "stream",
          "name": "stdout",
          "text": [
            "Epoch 1/50\n",
            "1009/1009 [==============================] - 61s 50ms/step - loss: 1.6572 - acc: 0.3552 - val_loss: 1.6191 - val_acc: 0.3706\n",
            "Epoch 2/50\n",
            "1009/1009 [==============================] - 49s 48ms/step - loss: 1.3548 - acc: 0.4788 - val_loss: 1.2792 - val_acc: 0.4937\n",
            "Epoch 3/50\n",
            "1009/1009 [==============================] - 49s 48ms/step - loss: 1.2676 - acc: 0.5154 - val_loss: 1.2788 - val_acc: 0.5138\n",
            "Epoch 4/50\n",
            "1009/1009 [==============================] - 49s 48ms/step - loss: 1.2189 - acc: 0.5379 - val_loss: 1.2187 - val_acc: 0.5266\n",
            "Epoch 5/50\n",
            "1009/1009 [==============================] - 49s 48ms/step - loss: 1.1812 - acc: 0.5501 - val_loss: 1.1581 - val_acc: 0.5486\n",
            "Epoch 6/50\n",
            "1009/1009 [==============================] - 49s 48ms/step - loss: 1.1517 - acc: 0.5606 - val_loss: 1.0964 - val_acc: 0.5904\n",
            "Epoch 7/50\n",
            "1009/1009 [==============================] - 48s 48ms/step - loss: 1.1261 - acc: 0.5763 - val_loss: 1.2205 - val_acc: 0.5428\n",
            "Epoch 8/50\n",
            "1009/1009 [==============================] - 48s 48ms/step - loss: 1.1041 - acc: 0.5819 - val_loss: 1.0761 - val_acc: 0.5965\n",
            "Epoch 9/50\n",
            "1009/1009 [==============================] - 48s 48ms/step - loss: 1.0830 - acc: 0.5884 - val_loss: 1.0281 - val_acc: 0.6152\n",
            "Epoch 10/50\n",
            "1009/1009 [==============================] - 48s 48ms/step - loss: 1.0579 - acc: 0.5977 - val_loss: 1.1958 - val_acc: 0.5564\n",
            "Epoch 11/50\n",
            "1009/1009 [==============================] - 48s 48ms/step - loss: 1.0439 - acc: 0.6049 - val_loss: 1.0156 - val_acc: 0.6152\n",
            "Epoch 12/50\n",
            "1009/1009 [==============================] - 48s 48ms/step - loss: 1.0240 - acc: 0.6127 - val_loss: 1.0377 - val_acc: 0.6124\n",
            "Epoch 13/50\n",
            "1009/1009 [==============================] - 48s 48ms/step - loss: 1.0074 - acc: 0.6193 - val_loss: 1.0562 - val_acc: 0.6166\n",
            "Epoch 14/50\n",
            "1009/1009 [==============================] - 48s 48ms/step - loss: 1.0023 - acc: 0.6230 - val_loss: 0.9820 - val_acc: 0.6322\n",
            "Epoch 15/50\n",
            "1009/1009 [==============================] - 48s 48ms/step - loss: 0.9821 - acc: 0.6283 - val_loss: 0.9828 - val_acc: 0.6342\n",
            "Epoch 16/50\n",
            "1009/1009 [==============================] - 48s 48ms/step - loss: 0.9692 - acc: 0.6332 - val_loss: 1.0032 - val_acc: 0.6255\n",
            "Epoch 17/50\n",
            "1009/1009 [==============================] - 48s 48ms/step - loss: 0.9479 - acc: 0.6436 - val_loss: 0.9919 - val_acc: 0.6369\n",
            "Epoch 18/50\n",
            "1009/1009 [==============================] - 48s 48ms/step - loss: 0.9362 - acc: 0.6456 - val_loss: 1.0455 - val_acc: 0.6160\n",
            "Epoch 19/50\n",
            "1009/1009 [==============================] - 48s 48ms/step - loss: 0.9179 - acc: 0.6544 - val_loss: 0.9804 - val_acc: 0.6369\n",
            "Epoch 20/50\n",
            "1009/1009 [==============================] - 48s 48ms/step - loss: 0.9071 - acc: 0.6587 - val_loss: 0.9819 - val_acc: 0.6400\n",
            "Epoch 21/50\n",
            "1009/1009 [==============================] - 48s 48ms/step - loss: 0.8929 - acc: 0.6626 - val_loss: 0.9484 - val_acc: 0.6512\n",
            "Epoch 22/50\n",
            "1009/1009 [==============================] - 48s 48ms/step - loss: 0.8760 - acc: 0.6703 - val_loss: 1.0094 - val_acc: 0.6291\n",
            "Epoch 23/50\n",
            "1009/1009 [==============================] - 48s 48ms/step - loss: 0.8690 - acc: 0.6740 - val_loss: 0.9578 - val_acc: 0.6492\n",
            "Epoch 24/50\n",
            "1009/1009 [==============================] - 48s 48ms/step - loss: 0.8586 - acc: 0.6769 - val_loss: 0.9350 - val_acc: 0.6598\n",
            "Epoch 25/50\n",
            "1009/1009 [==============================] - 48s 48ms/step - loss: 0.8485 - acc: 0.6823 - val_loss: 0.9635 - val_acc: 0.6495\n",
            "Epoch 26/50\n",
            "1009/1009 [==============================] - 48s 48ms/step - loss: 0.8341 - acc: 0.6864 - val_loss: 0.9284 - val_acc: 0.6626\n",
            "Epoch 27/50\n",
            "1009/1009 [==============================] - 48s 48ms/step - loss: 0.8165 - acc: 0.6942 - val_loss: 0.9313 - val_acc: 0.6662\n",
            "Epoch 28/50\n",
            "1009/1009 [==============================] - 48s 48ms/step - loss: 0.8068 - acc: 0.6965 - val_loss: 1.0291 - val_acc: 0.6369\n",
            "Epoch 29/50\n",
            "1009/1009 [==============================] - 48s 48ms/step - loss: 0.7945 - acc: 0.7002 - val_loss: 0.9335 - val_acc: 0.6609\n",
            "Epoch 30/50\n",
            "1009/1009 [==============================] - 49s 48ms/step - loss: 0.7775 - acc: 0.7083 - val_loss: 0.9692 - val_acc: 0.6573\n",
            "Epoch 31/50\n",
            "1009/1009 [==============================] - 48s 48ms/step - loss: 0.7754 - acc: 0.7084 - val_loss: 0.9313 - val_acc: 0.6679\n",
            "Epoch 32/50\n",
            "1009/1009 [==============================] - 48s 48ms/step - loss: 0.7670 - acc: 0.7100 - val_loss: 0.9960 - val_acc: 0.6450\n",
            "Epoch 33/50\n",
            "1009/1009 [==============================] - 48s 48ms/step - loss: 0.7458 - acc: 0.7159 - val_loss: 0.9455 - val_acc: 0.6695\n",
            "Epoch 34/50\n",
            "1009/1009 [==============================] - 48s 48ms/step - loss: 0.7397 - acc: 0.7258 - val_loss: 0.9827 - val_acc: 0.6509\n",
            "Epoch 35/50\n",
            "1009/1009 [==============================] - 48s 48ms/step - loss: 0.7305 - acc: 0.7246 - val_loss: 0.9216 - val_acc: 0.6690\n",
            "Epoch 36/50\n",
            "1009/1009 [==============================] - 48s 48ms/step - loss: 0.7198 - acc: 0.7312 - val_loss: 1.0309 - val_acc: 0.6417\n",
            "Epoch 37/50\n",
            "1009/1009 [==============================] - 48s 48ms/step - loss: 0.7072 - acc: 0.7358 - val_loss: 1.0180 - val_acc: 0.6503\n",
            "Epoch 38/50\n",
            "1009/1009 [==============================] - 48s 48ms/step - loss: 0.6962 - acc: 0.7393 - val_loss: 0.9471 - val_acc: 0.6718\n",
            "Epoch 39/50\n",
            "1009/1009 [==============================] - 48s 48ms/step - loss: 0.6912 - acc: 0.7412 - val_loss: 0.9298 - val_acc: 0.6743\n",
            "Epoch 40/50\n",
            "1009/1009 [==============================] - 48s 48ms/step - loss: 0.6726 - acc: 0.7470 - val_loss: 1.0436 - val_acc: 0.6434\n",
            "Epoch 41/50\n",
            "1009/1009 [==============================] - 48s 48ms/step - loss: 0.6653 - acc: 0.7507 - val_loss: 1.0248 - val_acc: 0.6587\n",
            "Epoch 42/50\n",
            "1009/1009 [==============================] - 48s 48ms/step - loss: 0.6549 - acc: 0.7549 - val_loss: 0.9438 - val_acc: 0.6748\n",
            "Epoch 43/50\n",
            "1009/1009 [==============================] - 48s 48ms/step - loss: 0.6479 - acc: 0.7560 - val_loss: 0.9827 - val_acc: 0.6595\n",
            "Epoch 44/50\n",
            "1009/1009 [==============================] - 48s 48ms/step - loss: 0.6462 - acc: 0.7604 - val_loss: 0.9959 - val_acc: 0.6606\n",
            "Epoch 45/50\n",
            "1009/1009 [==============================] - 48s 48ms/step - loss: 0.6325 - acc: 0.7634 - val_loss: 0.9903 - val_acc: 0.6626\n",
            "Epoch 46/50\n",
            "1009/1009 [==============================] - 48s 48ms/step - loss: 0.6292 - acc: 0.7661 - val_loss: 0.9349 - val_acc: 0.6729\n",
            "Epoch 47/50\n",
            "1009/1009 [==============================] - 48s 48ms/step - loss: 0.6184 - acc: 0.7677 - val_loss: 0.9396 - val_acc: 0.6877\n",
            "Epoch 48/50\n",
            "1009/1009 [==============================] - 48s 48ms/step - loss: 0.6080 - acc: 0.7731 - val_loss: 0.9730 - val_acc: 0.6815\n",
            "Epoch 49/50\n",
            "1009/1009 [==============================] - 48s 48ms/step - loss: 0.6064 - acc: 0.7731 - val_loss: 0.9808 - val_acc: 0.6723\n",
            "Epoch 50/50\n",
            "1009/1009 [==============================] - 48s 48ms/step - loss: 0.5910 - acc: 0.7787 - val_loss: 1.0009 - val_acc: 0.6746\n",
            "CPU times: user 33min 39s, sys: 1min 22s, total: 35min 2s\n",
            "Wall time: 40min 24s\n"
          ]
        }
      ]
    },
    {
      "cell_type": "markdown",
      "id": "e5f87518",
      "metadata": {
        "papermill": {
          "duration": 0.039397,
          "end_time": "2021-11-13T20:26:45.438414",
          "exception": false,
          "start_time": "2021-11-13T20:26:45.399017",
          "status": "completed"
        },
        "tags": [],
        "id": "e5f87518"
      },
      "source": [
        "# Visualise training performance"
      ]
    },
    {
      "cell_type": "code",
      "execution_count": 25,
      "id": "a6e56bfb",
      "metadata": {
        "execution": {
          "iopub.execute_input": "2021-11-13T20:26:45.524919Z",
          "iopub.status.busy": "2021-11-13T20:26:45.524396Z",
          "iopub.status.idle": "2021-11-13T20:27:03.880044Z",
          "shell.execute_reply": "2021-11-13T20:27:03.880541Z",
          "shell.execute_reply.started": "2021-11-13T20:09:14.307015Z"
        },
        "papermill": {
          "duration": 18.403248,
          "end_time": "2021-11-13T20:27:03.880707",
          "exception": false,
          "start_time": "2021-11-13T20:26:45.477459",
          "status": "completed"
        },
        "tags": [],
        "id": "a6e56bfb",
        "colab": {
          "base_uri": "https://localhost:8080/",
          "height": 404
        },
        "outputId": "0575e758-d3da-4b46-8c60-49d6b2e9788f"
      },
      "outputs": [
        {
          "output_type": "display_data",
          "data": {
            "image/png": "[encoded data removed]",
            "text/plain": [
              "<Figure size 1296x432 with 2 Axes>"
            ]
          },
          "metadata": {
            "needs_background": "light"
          }
        }
      ],
      "source": [
        "fig, axes = plt.subplots(1,2, figsize=(18, 6))\n",
        "# Plot training & validation accuracy values\n",
        "axes[0].plot(history.history['acc'])\n",
        "axes[0].plot(history.history['val_acc'])\n",
        "axes[0].set_title('Model accuracy')\n",
        "axes[0].set_ylabel('Accuracy')\n",
        "axes[0].set_xlabel('Epoch')\n",
        "axes[0].legend(['Train', 'Validation'], loc='upper left')\n",
        "\n",
        "# Plot training & validation loss values\n",
        "axes[1].plot(history.history['loss'])\n",
        "axes[1].plot(history.history['val_loss'])\n",
        "axes[1].set_title('Model loss')\n",
        "axes[1].set_ylabel('Loss')\n",
        "axes[1].set_xlabel('Epoch')\n",
        "axes[1].legend(['Train', 'Validation'], loc='upper left')\n",
        "plt.show()"
      ]
    },
    {
      "cell_type": "markdown",
      "id": "fe992267",
      "metadata": {
        "papermill": {
          "duration": 0.041577,
          "end_time": "2021-11-13T20:27:03.963053",
          "exception": false,
          "start_time": "2021-11-13T20:27:03.921476",
          "status": "completed"
        },
        "tags": [],
        "id": "fe992267"
      },
      "source": [
        "# Evaluate Test performance"
      ]
    },
    {
      "cell_type": "code",
      "execution_count": 26,
      "id": "39f3dd19",
      "metadata": {
        "execution": {
          "iopub.execute_input": "2021-11-13T20:27:04.051193Z",
          "iopub.status.busy": "2021-11-13T20:27:04.050382Z",
          "iopub.status.idle": "2021-11-13T20:27:05.573908Z",
          "shell.execute_reply": "2021-11-13T20:27:05.574880Z",
          "shell.execute_reply.started": "2021-11-13T20:09:28.131704Z"
        },
        "papermill": {
          "duration": 1.569819,
          "end_time": "2021-11-13T20:27:05.575063",
          "exception": false,
          "start_time": "2021-11-13T20:27:04.005244",
          "status": "completed"
        },
        "tags": [],
        "id": "39f3dd19",
        "colab": {
          "base_uri": "https://localhost:8080/"
        },
        "outputId": "da7fa95f-7ee9-4a21-f501-d9c08a273b57"
      },
      "outputs": [
        {
          "output_type": "stream",
          "name": "stdout",
          "text": [
            "Accuracy score =  0.6776260796879353\n",
            "Accuracy percentage =  67.76260796879353 %\n"
          ]
        }
      ],
      "source": [
        "predicted_test_labels = np.argmax(model.predict(test_data), axis=1)\n",
        "test_labels = np.argmax(test_labels, axis=1)\n",
        "print (\"Accuracy score = \", accuracy_score(test_labels, predicted_test_labels))\n",
        "print (\"Accuracy percentage = \", accuracy_score(test_labels, predicted_test_labels)*100, \"%\")\n"
      ]
    },
    {
      "cell_type": "markdown",
      "id": "bbca8228",
      "metadata": {
        "papermill": {
          "duration": 0.041098,
          "end_time": "2021-11-13T20:27:05.658411",
          "exception": false,
          "start_time": "2021-11-13T20:27:05.617313",
          "status": "completed"
        },
        "tags": [],
        "id": "bbca8228"
      },
      "source": [
        "# Confusion Matrix"
      ]
    },
    {
      "cell_type": "code",
      "source": [
        "labels = ['Anger', 'Disgust', 'Fear', 'Happy', 'Sad', 'Surprise', 'Neutral']"
      ],
      "metadata": {
        "id": "0FoFqRj6oxPN"
      },
      "id": "0FoFqRj6oxPN",
      "execution_count": 29,
      "outputs": []
    },
    {
      "cell_type": "code",
      "execution_count": 32,
      "id": "adccda84",
      "metadata": {
        "execution": {
          "iopub.execute_input": "2021-11-13T20:27:05.753474Z",
          "iopub.status.busy": "2021-11-13T20:27:05.752746Z",
          "iopub.status.idle": "2021-11-13T20:27:05.755381Z",
          "shell.execute_reply": "2021-11-13T20:27:05.754925Z",
          "shell.execute_reply.started": "2021-11-13T20:09:38.346628Z"
        },
        "papermill": {
          "duration": 0.055068,
          "end_time": "2021-11-13T20:27:05.755554",
          "exception": false,
          "start_time": "2021-11-13T20:27:05.700486",
          "status": "completed"
        },
        "tags": [],
        "id": "adccda84"
      },
      "outputs": [],
      "source": [
        "def plot_confusion_matrix(y_true, y_pred, cmap=plt.cm.Blues):\n",
        "    cm = confusion_matrix(y_true, y_pred)\n",
        "    fig = plt.figure(figsize=(6,6))\n",
        "    plt.rcParams.update({'font.size': 16})\n",
        "    ax  = fig.add_subplot(111)\n",
        "    matrix = ax.imshow(cm, interpolation='nearest', cmap=cmap)\n",
        "    fig.colorbar(matrix) \n",
        "    for i in range(0,7):\n",
        "        for j in range(0,7):  \n",
        "            ax.text(j,i,cm[i,j],va='center', ha='center')\n",
        "    # ax.set_title('Confusion Matrix')\n",
        "    ticks = np.arange(len(labels))\n",
        "    ax.set_xticks(ticks)\n",
        "    ax.set_xticklabels(labels, rotation=45)\n",
        "    ax.set_yticks(ticks)\n",
        "    ax.set_yticklabels(labels)\n",
        "    plt.tight_layout()\n",
        "    plt.ylabel('True label')\n",
        "    plt.xlabel('Predicted label')\n"
      ]
    },
    {
      "cell_type": "code",
      "execution_count": 34,
      "id": "e8a31664",
      "metadata": {
        "execution": {
          "iopub.execute_input": "2021-11-13T20:27:05.843172Z",
          "iopub.status.busy": "2021-11-13T20:27:05.842416Z",
          "iopub.status.idle": "2021-11-13T20:27:06.355964Z",
          "shell.execute_reply": "2021-11-13T20:27:06.356391Z",
          "shell.execute_reply.started": "2021-11-13T20:09:45.980549Z"
        },
        "papermill": {
          "duration": 0.559289,
          "end_time": "2021-11-13T20:27:06.356545",
          "exception": false,
          "start_time": "2021-11-13T20:27:05.797256",
          "status": "completed"
        },
        "tags": [],
        "id": "e8a31664",
        "colab": {
          "base_uri": "https://localhost:8080/",
          "height": 424
        },
        "outputId": "ffc8dab7-78db-4a94-c354-06bebb1530c6"
      },
      "outputs": [
        {
          "output_type": "display_data",
          "data": {
            "image/png": "[encoded data removed]",
            "text/plain": [
              "<Figure size 432x432 with 2 Axes>"
            ]
          },
          "metadata": {
            "needs_background": "light"
          }
        }
      ],
      "source": [
        "plot_confusion_matrix(test_labels, predicted_test_labels, cmap=plt.cm.YlGnBu)\n",
        "plt.show()"
      ]
    },
    {
      "cell_type": "code",
      "source": [
        "from sklearn.metrics import classification_report\n",
        "print(classification_report(test_labels, predicted_test_labels, target_names=labels))"
      ],
      "metadata": {
        "id": "U1B-fSxfweyz",
        "colab": {
          "base_uri": "https://localhost:8080/"
        },
        "outputId": "f93c874f-15da-473c-d1ef-d272db7b7d77"
      },
      "id": "U1B-fSxfweyz",
      "execution_count": 35,
      "outputs": [
        {
          "output_type": "stream",
          "name": "stdout",
          "text": [
            "              precision    recall  f1-score   support\n",
            "\n",
            "       Anger       0.61      0.58      0.60       491\n",
            "     Disgust       0.72      0.65      0.69        55\n",
            "        Fear       0.58      0.46      0.51       528\n",
            "       Happy       0.85      0.88      0.86       879\n",
            "         Sad       0.55      0.55      0.55       594\n",
            "    Surprise       0.81      0.77      0.79       416\n",
            "     Neutral       0.59      0.71      0.64       626\n",
            "\n",
            "    accuracy                           0.68      3589\n",
            "   macro avg       0.67      0.66      0.66      3589\n",
            "weighted avg       0.68      0.68      0.67      3589\n",
            "\n"
          ]
        }
      ]
    },
    {
      "cell_type": "code",
      "source": [
        "from keras.models import model_from_json\n",
        "model_json = model.to_json()\n",
        "with open(\"/content/drive/MyDrive/Capstone Project  5/mainfinal1.json\", \"w\") as json_file:\n",
        "    json_file.write(model_json)\n",
        "# serialize weights to HDF5\n",
        "model.save_weights(\"/content/drive/MyDrive/Capstone Project  5/mainfinal1.hdf5\")\n",
        "print(\"Saved model to disk\")"
      ],
      "metadata": {
        "id": "RgMQvhg44IF0",
        "colab": {
          "base_uri": "https://localhost:8080/"
        },
        "outputId": "dfc157ab-1beb-4544-8115-36cc1b53c3b7"
      },
      "id": "RgMQvhg44IF0",
      "execution_count": 36,
      "outputs": [
        {
          "output_type": "stream",
          "name": "stdout",
          "text": [
            "Saved model to disk\n"
          ]
        }
      ]
    },
    {
      "cell_type": "code",
      "source": [
        "# Saving the whole model along with architecture in FER_model.h5\n",
        "model.save('/content/drive/MyDrive/Capstone Project  5/mainfinal1.h5')\n",
        "print('Model Saved')"
      ],
      "metadata": {
        "id": "u0LrII-D-veb",
        "colab": {
          "base_uri": "https://localhost:8080/"
        },
        "outputId": "4b121b34-ea47-4d7c-a8ce-2a8a2dab9d11"
      },
      "id": "u0LrII-D-veb",
      "execution_count": 37,
      "outputs": [
        {
          "output_type": "stream",
          "name": "stdout",
          "text": [
            "Model Saved\n"
          ]
        }
      ]
    },
    {
      "cell_type": "code",
      "source": [
        ""
      ],
      "metadata": {
        "id": "tMAry8W3_sOS"
      },
      "id": "tMAry8W3_sOS",
      "execution_count": null,
      "outputs": []
    }
  ],
  "metadata": {
    "kernelspec": {
      "display_name": "Python 3",
      "language": "python",
      "name": "python3"
    },
    "language_info": {
      "codemirror_mode": {
        "name": "ipython",
        "version": 3
      },
      "file_extension": ".py",
      "mimetype": "text/x-python",
      "name": "python",
      "nbconvert_exporter": "python",
      "pygments_lexer": "ipython3",
      "version": "3.7.10"
    },
    "papermill": {
      "default_parameters": {},
      "duration": 1018.841754,
      "end_time": "2021-11-13T20:27:09.767876",
      "environment_variables": {},
      "exception": null,
      "input_path": "__notebook__.ipynb",
      "output_path": "__notebook__.ipynb",
      "parameters": {},
      "start_time": "2021-11-13T20:10:10.926122",
      "version": "2.3.3"
    },
    "colab": {
      "name": "facial-expression-classification-main.ipynb",
      "provenance": [],
      "collapsed_sections": [],
      "include_colab_link": true
    },
    "accelerator": "GPU"
  },
  "nbformat": 4,
  "nbformat_minor": 5
}